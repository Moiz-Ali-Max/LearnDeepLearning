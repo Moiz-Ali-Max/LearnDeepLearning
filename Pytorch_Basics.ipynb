{
 "cells": [
  {
   "cell_type": "markdown",
   "id": "7ff1c783",
   "metadata": {},
   "source": [
    "### Tensor:\n",
    "Imagine you have a box that stores numbers. Sometimes it's just one number, sometimes a list, a table, or even a 3D cube.\n",
    "- A tensor is just like that box, it holds numbers in different shapes.\n",
    "- In PyTorch and Deep Learning, everything works with these boxes (tensors).\n",
    "- Tensors are like Python lists or NumPy arrays, but faster and made for training models using GPU and gradients."
   ]
  },
  {
   "cell_type": "markdown",
   "id": "ae53cc1a",
   "metadata": {},
   "source": [
    "#### First of all you have to do installation, if you are using google colab then there is no need to install this."
   ]
  },
  {
   "cell_type": "code",
   "execution_count": 3,
   "id": "66f9a9b5",
   "metadata": {},
   "outputs": [],
   "source": [
    "import torch"
   ]
  },
  {
   "cell_type": "markdown",
   "id": "2c50cd41",
   "metadata": {},
   "source": [
    "#### 1. Scalar\n",
    "Imagine you got 95 marks in a test, so it is just one number. \n",
    "- When we make it a tensor, it becomes a scalar tensor.\n",
    "- A scalar means just one value. It has no shape.\n",
    "\n",
    "**Example in Deep Learning:**\n",
    "When a model gives you the final result like \"Loss = 0.27\", that’s a scalar."
   ]
  },
  {
   "cell_type": "code",
   "execution_count": 7,
   "id": "fe52b1a7",
   "metadata": {},
   "outputs": [
    {
     "name": "stdout",
     "output_type": "stream",
     "text": [
      "We create a scalar tensor with value 2: tensor(2)\n"
     ]
    }
   ],
   "source": [
    "scalar = torch.tensor(2)\n",
    "print(\"We create a scalar tensor with value 2:\", scalar)"
   ]
  },
  {
   "cell_type": "code",
   "execution_count": 8,
   "id": "0e28123d",
   "metadata": {},
   "outputs": [
    {
     "name": "stdout",
     "output_type": "stream",
     "text": [
      "We create a scalar tensor with value 5.0: tensor(5.)\n"
     ]
    }
   ],
   "source": [
    "scalar = torch.tensor(5.0)\n",
    "print(\"We create a scalar tensor with value 5.0:\", scalar)"
   ]
  },
  {
   "cell_type": "code",
   "execution_count": 9,
   "id": "c1f031bd",
   "metadata": {},
   "outputs": [
    {
     "name": "stdout",
     "output_type": "stream",
     "text": [
      "We create a scalar tensor with value 10: tensor(10)\n"
     ]
    }
   ],
   "source": [
    "scalar = torch.tensor(10)\n",
    "print(\"We create a scalar tensor with value 10:\", scalar)"
   ]
  },
  {
   "cell_type": "markdown",
   "id": "ff78e8e5",
   "metadata": {},
   "source": [
    "#### 2. Vector:\n",
    "Now think about saving your height, weight, and age, so it looks like: [170, 65, 22]\n",
    "- This is a vector, a list with many values in a single line. And it is 1D (one-dimension).\n",
    "\n",
    "**Use Case:**\n",
    "When you give a model a person’s data or image pixels, you use a vector.\n",
    "\n"
   ]
  },
  {
   "cell_type": "code",
   "execution_count": 11,
   "id": "69eed7ec",
   "metadata": {},
   "outputs": [
    {
     "name": "stdout",
     "output_type": "stream",
     "text": [
      "We create a vector tensor with values: tensor([1., 2., 3.])\n"
     ]
    }
   ],
   "source": [
    "vector = torch.tensor([1.0, 2.0, 3.0])\n",
    "print(\"We create a vector tensor with values:\", vector)"
   ]
  },
  {
   "cell_type": "code",
   "execution_count": 12,
   "id": "abb0090b",
   "metadata": {},
   "outputs": [
    {
     "name": "stdout",
     "output_type": "stream",
     "text": [
      "We create another vector tensor with values: tensor([4., 5., 6.])\n"
     ]
    }
   ],
   "source": [
    "vector = torch.tensor([4.0, 5.0, 6.0])\n",
    "print(\"We create another vector tensor with values:\", vector)"
   ]
  },
  {
   "cell_type": "markdown",
   "id": "c812fd42",
   "metadata": {},
   "source": [
    "#### 3. Matrix:\n",
    "Now think of 3 students and their 3 test scores:\n",
    "- Student1:  [90, 85, 80] \n",
    "- Student2: [88, 82, 84]  \n",
    "- Student3: [70, 75, 72]\n",
    "\n",
    "This looks like a table, so we call it a matrix. It has rows and columns. This is a 2D tensor.\n",
    "\n",
    "**Use Case:**\n",
    "Model weights and image data are usually in matrix form."
   ]
  },
  {
   "cell_type": "code",
   "execution_count": 13,
   "id": "21c72840",
   "metadata": {},
   "outputs": [
    {
     "name": "stdout",
     "output_type": "stream",
     "text": [
      "We create a matrix tensor with values:\n",
      " tensor([[1., 2.],\n",
      "        [3., 4.]])\n"
     ]
    }
   ],
   "source": [
    "matrix = torch.tensor([[1.0, 2.0], [3.0, 4.0]])\n",
    "print(\"We create a matrix tensor with values:\\n\", matrix)"
   ]
  },
  {
   "cell_type": "code",
   "execution_count": 14,
   "id": "5d6d5e74",
   "metadata": {},
   "outputs": [
    {
     "name": "stdout",
     "output_type": "stream",
     "text": [
      "We create another matrix tensor with values:\n",
      " tensor([[1, 2],\n",
      "        [3, 4],\n",
      "        [4, 5]])\n"
     ]
    }
   ],
   "source": [
    "matrix = torch.tensor([[1, 2], \n",
    "                       [3, 4],\n",
    "                       [4, 5]])\n",
    "print(\"We create another matrix tensor with values:\\n\", matrix)"
   ]
  },
  {
   "cell_type": "markdown",
   "id": "26e50070",
   "metadata": {},
   "source": [
    "#### 4. Random Tensor:\n",
    "Sometimes we start training a model and want the starting values to be random.\n",
    "- That’s when we use a random tensor, so it fills with numbers between 0 and 1.\n",
    "\n",
    "**Use Case:**\n",
    "When a model is new, we give it random values to begin learning.\n"
   ]
  },
  {
   "cell_type": "code",
   "execution_count": 16,
   "id": "19d08674",
   "metadata": {},
   "outputs": [
    {
     "name": "stdout",
     "output_type": "stream",
     "text": [
      "We create a random tensor with shape (3, 3):\n",
      " tensor([[0.8776, 0.8596, 0.4920],\n",
      "        [0.1756, 0.0485, 0.2699],\n",
      "        [0.7059, 0.7106, 0.2767]])\n"
     ]
    }
   ],
   "source": [
    "rand_tensor = torch.rand(3, 3)\n",
    "print(\"We create a random tensor with shape (3, 3):\\n\", rand_tensor)"
   ]
  },
  {
   "cell_type": "code",
   "execution_count": 17,
   "id": "2afca66a",
   "metadata": {},
   "outputs": [
    {
     "name": "stdout",
     "output_type": "stream",
     "text": [
      "We create another random tensor with shape (2, 2):\n",
      " tensor([[0.1684, 0.9327],\n",
      "        [0.1866, 0.6260]])\n"
     ]
    }
   ],
   "source": [
    "rand_tensor = torch.rand(2, 2)\n",
    "print(\"We create another random tensor with shape (2, 2):\\n\", rand_tensor)"
   ]
  },
  {
   "cell_type": "markdown",
   "id": "643e7fb1",
   "metadata": {},
   "source": [
    "#### 5. Zeros and Ones\n",
    "- If we want to start everything from zero, we make a tensor with only zeros.\n",
    "- If we want to show ON/OFF type data, we can use ones and zeros.\n",
    "\n",
    "**Example:**\n",
    "Making a table where 0 = not selected and 1 = selected. This helps in training and creating sample data."
   ]
  },
  {
   "cell_type": "code",
   "execution_count": 18,
   "id": "28a10a4e",
   "metadata": {},
   "outputs": [
    {
     "name": "stdout",
     "output_type": "stream",
     "text": [
      "We create a tensor filled with zeros of shape (2, 3):\n",
      " tensor([[0., 0., 0.],\n",
      "        [0., 0., 0.]])\n"
     ]
    }
   ],
   "source": [
    "zeros = torch.zeros(2, 3)\n",
    "print(\"We create a tensor filled with zeros of shape (2, 3):\\n\", zeros)"
   ]
  },
  {
   "cell_type": "code",
   "execution_count": 19,
   "id": "de5c0202",
   "metadata": {},
   "outputs": [
    {
     "name": "stdout",
     "output_type": "stream",
     "text": [
      "We create a tensor filled with ones of shape (2, 3):\n",
      " tensor([[1., 1., 1.],\n",
      "        [1., 1., 1.]])\n"
     ]
    }
   ],
   "source": [
    "ones = torch.ones(2, 3)\n",
    "print(\"We create a tensor filled with ones of shape (2, 3):\\n\", ones)"
   ]
  },
  {
   "cell_type": "markdown",
   "id": "bd938a8c",
   "metadata": {},
   "source": [
    "#### 6. range and Tensor Like\n",
    "**torch.arange()** works like Python’s range(). It creates a line of numbers like: 0, 1, 2, 3, ...\n",
    "\n",
    "**Example:**\n",
    "torch.arange(0, 10) will give numbers from 0 to 9. (Last no./Endpoint is excluded).\n",
    "\n",
    "**torch.tensor_like()** creates a new tensor with the same shape and type as another one.\n",
    "\n",
    "**Use Case:**\n",
    "When you want to make a copy with different values inside."
   ]
  },
  {
   "cell_type": "code",
   "execution_count": 20,
   "id": "d9fa9e2b",
   "metadata": {},
   "outputs": [
    {
     "name": "stdout",
     "output_type": "stream",
     "text": [
      "We create a tensor with numbers from 0 to 9:\n",
      " tensor([0, 1, 2, 3, 4, 5, 6, 7, 8, 9])\n"
     ]
    }
   ],
   "source": [
    "aranged_tensor = torch.arange(0, 10)\n",
    "print(\"We create a tensor with numbers from 0 to 9:\\n\", aranged_tensor)"
   ]
  },
  {
   "cell_type": "code",
   "execution_count": 27,
   "id": "f1126f6a",
   "metadata": {},
   "outputs": [
    {
     "data": {
      "text/plain": [
       "tensor([[1, 2],\n",
       "        [3, 4]])"
      ]
     },
     "execution_count": 27,
     "metadata": {},
     "output_type": "execute_result"
    }
   ],
   "source": [
    "sample_tensor = torch.tensor([[1, 2], [3, 4]])\n",
    "sample_tensor"
   ]
  },
  {
   "cell_type": "code",
   "execution_count": 28,
   "id": "cd99639e",
   "metadata": {},
   "outputs": [
    {
     "name": "stdout",
     "output_type": "stream",
     "text": [
      "We create a tensor like sample_tensor with ones:\n",
      " tensor([[1, 1],\n",
      "        [1, 1]])\n"
     ]
    }
   ],
   "source": [
    "tensor_like = torch.ones_like(sample_tensor)\n",
    "print(\"We create a tensor like sample_tensor with ones:\\n\", tensor_like)"
   ]
  },
  {
   "cell_type": "code",
   "execution_count": 29,
   "id": "673bd331",
   "metadata": {},
   "outputs": [
    {
     "name": "stdout",
     "output_type": "stream",
     "text": [
      "We create a tensor like sample_tensor with zeros:\n",
      " tensor([[0, 0],\n",
      "        [0, 0]])\n"
     ]
    }
   ],
   "source": [
    "tensor_like = torch.zeros_like(sample_tensor)\n",
    "print(\"We create a tensor like sample_tensor with zeros:\\n\", tensor_like)"
   ]
  },
  {
   "cell_type": "markdown",
   "id": "69c144d6",
   "metadata": {},
   "source": [
    "#### 7. torch.eye (Identity Matrix)\n",
    "This is a special matrix with 1s only on the diagonal and 0s everywhere else.\n",
    "[1 0 0]  \n",
    "[0 1 0]  \n",
    "[0 0 1]\n",
    "\n",
    "**Use Case:**\n",
    "It's like a mirror. Means what you give in, you get out the same.\n",
    "Used when we don’t want to change the input."
   ]
  },
  {
   "cell_type": "code",
   "execution_count": 30,
   "id": "c90449fa",
   "metadata": {},
   "outputs": [
    {
     "name": "stdout",
     "output_type": "stream",
     "text": [
      "We create an identity matrix of size 3x3:\n",
      " tensor([[1., 0., 0.],\n",
      "        [0., 1., 0.],\n",
      "        [0., 0., 1.]])\n"
     ]
    }
   ],
   "source": [
    "eye_tensor = torch.eye(3)\n",
    "print(\"We create an identity matrix of size 3x3:\\n\", eye_tensor)"
   ]
  },
  {
   "cell_type": "markdown",
   "id": "ed76f70c",
   "metadata": {},
   "source": [
    "#### 8. torch.full\n",
    "This makes a matrix where every value is the same.\n",
    "\n",
    "**Example:**\n",
    "torch.full((2, 2), 7) makes:\n",
    "[7 7]  \n",
    "[7 7]\n",
    "\n",
    "**Use:**\n",
    "Useful when you want a default value, like giving all students 10 bonus marks to start.\n"
   ]
  },
  {
   "cell_type": "code",
   "execution_count": 31,
   "id": "3af92000",
   "metadata": {},
   "outputs": [
    {
     "name": "stdout",
     "output_type": "stream",
     "text": [
      "We create a tensor filled with the value 7 of shape (2, 3):\n",
      " tensor([[7, 7, 7],\n",
      "        [7, 7, 7]])\n"
     ]
    }
   ],
   "source": [
    "filled_tensor = torch.full((2, 3), 7)\n",
    "print(\"We create a tensor filled with the value 7 of shape (2, 3):\\n\", filled_tensor)"
   ]
  },
  {
   "cell_type": "markdown",
   "id": "64629802",
   "metadata": {},
   "source": [
    "#### 9. torch.linspace\n",
    "When we want to get numbers between 0 and 1 with equal gaps.\n",
    "\n",
    "**Example:**\n",
    "torch.linspace(0, 1, steps=5) gives:\n",
    "\n",
    "[0.00, 0.25, 0.50, 0.75, 1.00]\n",
    "\n",
    "**Use Case:**\n",
    "Great for drawing graphs or when you want evenly spaced values."
   ]
  },
  {
   "cell_type": "code",
   "execution_count": 34,
   "id": "3080f6c1",
   "metadata": {},
   "outputs": [
    {
     "name": "stdout",
     "output_type": "stream",
     "text": [
      "We create a tensor with 5 evenly spaced values between 0 and 1:\n",
      " tensor([0.0000, 0.2500, 0.5000, 0.7500, 1.0000])\n"
     ]
    }
   ],
   "source": [
    "lin_tensor = torch.linspace(0, 1, steps=5)\n",
    "print(\"We create a tensor with 5 evenly spaced values between 0 and 1:\\n\", lin_tensor)"
   ]
  },
  {
   "cell_type": "markdown",
   "id": "1e7e6bc5",
   "metadata": {},
   "source": [
    "#### 10. Tensor Data Types\n",
    "Inside a tensor, the numbers have types, like:\n",
    "- int -> whole numbers (1, 2, 3)\n",
    "- float -> decimal numbers (1.0, 2.5)\n",
    "- bool -> true or false (1 or 0)\n",
    "\n",
    "**Example:**\n",
    "- int: Your marks (70, 85, 90).\n",
    "- float: Your CGPA (3.43, 3.88).\n",
    "- bool: Pass or Fail (True / False).\n",
    "\n",
    "**How to do in Pytorch?**\n",
    "- tensor.int()\n",
    "- tensor.float()\n",
    "- tensor.bool() \n"
   ]
  },
  {
   "cell_type": "code",
   "execution_count": 35,
   "id": "543e3d71",
   "metadata": {},
   "outputs": [
    {
     "data": {
      "text/plain": [
       "(tensor([1, 2, 3]), torch.int64)"
      ]
     },
     "execution_count": 35,
     "metadata": {},
     "output_type": "execute_result"
    }
   ],
   "source": [
    "int_tensor = torch.tensor([1, 2, 3])\n",
    "int_tensor, int_tensor.dtype"
   ]
  },
  {
   "cell_type": "code",
   "execution_count": null,
   "id": "34cdf050",
   "metadata": {},
   "outputs": [
    {
     "name": "stdout",
     "output_type": "stream",
     "text": [
      "We convert int_tensor to float:\n",
      " tensor([1., 2., 3.]) torch.float32\n"
     ]
    }
   ],
   "source": [
    "#now we convert the int_tensor to float\n",
    "float_tensor = int_tensor.float()\n",
    "print(\"We convert int_tensor to float:\\n\", float_tensor, float_tensor.dtype)\n"
   ]
  },
  {
   "cell_type": "code",
   "execution_count": 43,
   "id": "162a6ec8",
   "metadata": {},
   "outputs": [
    {
     "name": "stdout",
     "output_type": "stream",
     "text": [
      "We create a boolean tensor with values:\n",
      " tensor([ True,  True, False])\n"
     ]
    }
   ],
   "source": [
    "bool_tensor = torch.tensor([1, 1, 0], dtype=torch.bool)\n",
    "print(\"We create a boolean tensor with values:\\n\", bool_tensor)"
   ]
  },
  {
   "cell_type": "markdown",
   "id": "b418c014",
   "metadata": {},
   "source": [
    "#### 11. Getting Tensor Info:\n",
    "When you create a tensor, you can check:\n",
    "- Shape -> size (like rows and columns)\n",
    "- Dtype -> type of numbers (int, float)\n",
    "- Device -> is it on CPU or GPU?\n",
    "\n",
    "**Why is it important?**\n",
    "Before training a model, you must know:\n",
    "- What size is your data?\n",
    "- Is the model expecting float or int?\n",
    "- Are you using GPU or just CPU?\n",
    "\n",
    "**Example:**\n",
    "- A grayscale image: shape = [1, 28, 28] -> 1 channel, 28x28 pixels\n",
    "- If you give shape [28, 28] by mistake -> model can give an error\n",
    "- Also, checking the device helps when using GPU for faster training"
   ]
  },
  {
   "cell_type": "code",
   "execution_count": 44,
   "id": "e990f092",
   "metadata": {},
   "outputs": [
    {
     "name": "stdout",
     "output_type": "stream",
     "text": [
      "We create a random tensor with shape (2, 3):\n",
      " tensor([[0.2322, 0.4557, 0.7299],\n",
      "        [0.0248, 0.4395, 0.8647]])\n",
      "Shape of tensor_info: torch.Size([2, 3])\n",
      "Data type of tensor_info: torch.float32\n",
      "Number of dimensions of tensor_info: 2\n",
      "Device of tensor_info: cpu\n"
     ]
    }
   ],
   "source": [
    "tensor_info = torch.rand(2, 3)\n",
    "print(\"We create a random tensor with shape (2, 3):\\n\", tensor_info)\n",
    "print(\"Shape of tensor_info:\", tensor_info.shape)\n",
    "print(\"Data type of tensor_info:\", tensor_info.dtype)\n",
    "print(\"Number of dimensions of tensor_info:\", tensor_info.ndim)\n",
    "print(\"Device of tensor_info:\", tensor_info.device)"
   ]
  },
  {
   "cell_type": "markdown",
   "id": "12dd09fd",
   "metadata": {},
   "source": [
    "##### **Shape Errors:**\n",
    "When you try to use two tensors together, but their shapes do not match, you get an error.\n",
    "**Example:**\n",
    "- Tensor A: shape = [2, 3]\n",
    "- Tensor B: shape = [3, 2]\n",
    "\n",
    "You try to multiply them, it gives an error b/c: “shapes don’t match”. You know that in a matrix multiplication, we must make sure that the column of matrix 1 is equal to the rows of matrix 2. It mean in above example the Tensor A shape is \"1x2\" and tenor B is \"1x2\". So column of Tensor A is \"2\" and Row of Tensor B is \"1\", so it won't do multiplication.\n",
    "\n",
    "**Example:**\n",
    "Imagine putting 2 books on a shelf.\n",
    "- One book is horizontal\n",
    "- One is vertical\n",
    "\n",
    "The shelf won’t fit both. same thing happens with wrong shapes.\n",
    "\n",
    "Most beginner mistakes in training happen because of wrong tensor shapes.\n",
    "If input and output shapes don’t match, the model won’t work.\n",
    "\n",
    "**So it's very important to always check the shape.**\n"
   ]
  },
  {
   "cell_type": "code",
   "execution_count": 45,
   "id": "fc124484",
   "metadata": {},
   "outputs": [
    {
     "name": "stdout",
     "output_type": "stream",
     "text": [
      "Tensor A:\n",
      " tensor([[1, 2],\n",
      "        [3, 4],\n",
      "        [5, 6]])\n",
      "Tensor B:\n",
      " tensor([[ 7,  8],\n",
      "        [ 9, 10],\n",
      "        [11, 12]])\n"
     ]
    }
   ],
   "source": [
    "Tensor_A = torch.tensor([[1, 2],\n",
    "                         [3, 4],\n",
    "                         [5, 6]])\n",
    "\n",
    "Tensor_B = torch.tensor([[7, 8],\n",
    "                         [9, 10],\n",
    "                         [11, 12]])\n",
    "\n",
    "print(\"Tensor A:\\n\", Tensor_A)\n",
    "print(\"Tensor B:\\n\", Tensor_B)"
   ]
  },
  {
   "cell_type": "code",
   "execution_count": 48,
   "id": "e1099207",
   "metadata": {},
   "outputs": [
    {
     "data": {
      "text/plain": [
       "tensor([[ 7,  9, 11],\n",
       "        [ 8, 10, 12]])"
      ]
     },
     "execution_count": 48,
     "metadata": {},
     "output_type": "execute_result"
    }
   ],
   "source": [
    "#Now we do matrix multiplication\n",
    "# Tensor_Multiply = torch.matmul(Tensor_A, Tensor_B) #It gives an error b/c of shape mismatch. So we transpose Tensor_B\n",
    "Tensor_B = Tensor_B.T\n",
    "Tensor_B"
   ]
  },
  {
   "cell_type": "code",
   "execution_count": 55,
   "id": "657e6dc6",
   "metadata": {},
   "outputs": [
    {
     "name": "stdout",
     "output_type": "stream",
     "text": [
      "Tensor A:  tensor([[1, 2],\n",
      "        [3, 4],\n",
      "        [5, 6]]) torch.Size([3, 2])\n",
      "Tensor B:  tensor([[ 7,  9, 11],\n",
      "        [ 8, 10, 12]]) torch.Size([2, 3])\n"
     ]
    }
   ],
   "source": [
    "print(\"Tensor A: \", Tensor_A, Tensor_A.shape)\n",
    "\n",
    "print(\"Tensor B: \", Tensor_B, Tensor_B.shape)"
   ]
  },
  {
   "cell_type": "code",
   "execution_count": 56,
   "id": "56ae953e",
   "metadata": {},
   "outputs": [
    {
     "name": "stdout",
     "output_type": "stream",
     "text": [
      "Result of matrix multiplication:\n",
      " tensor([[ 23,  29,  35],\n",
      "        [ 53,  67,  81],\n",
      "        [ 83, 105, 127]])\n"
     ]
    }
   ],
   "source": [
    "Tensor_Multiply = torch.matmul(Tensor_A, Tensor_B)\n",
    "print(\"Result of matrix multiplication:\\n\", Tensor_Multiply)"
   ]
  },
  {
   "cell_type": "markdown",
   "id": "866323bc",
   "metadata": {},
   "source": [
    "#### 12. Reshape, Stack, Squeeze, Unsqueeze, Permute"
   ]
  },
  {
   "cell_type": "markdown",
   "id": "9b1981cf",
   "metadata": {},
   "source": [
    "##### **Reshape:**\n",
    "When you change how the data looks (like rows and columns), but you don’t change the actual numbers inside the tensor. So reshape() changes the layout (rows × columns) of a tensor without changing the values inside.\n",
    "\n",
    "**Example:**\n",
    "Imagine you have 8 laptops in a sinlge row. (L1, L2, ..., L8). Now you put them in a box with 4 rows and 2 columns.\n",
    "[\n",
    "    [L1 L2],\n",
    "    [L3 L4],\n",
    "    [L5 L6],\n",
    "    [L7 L8]\n",
    "]\n",
    "\n",
    "The laptops are the same. Only the layout changed. This is called **Reshaping**."
   ]
  },
  {
   "cell_type": "code",
   "execution_count": 58,
   "id": "32fd3a4a",
   "metadata": {},
   "outputs": [
    {
     "name": "stdout",
     "output_type": "stream",
     "text": [
      "Sample tensor with shape (2, 3):\n",
      " tensor([[0.6516, 0.7299, 0.8049],\n",
      "        [0.4785, 0.2242, 0.0480]])\n"
     ]
    }
   ],
   "source": [
    "sample_tensor = torch.rand(2, 3)\n",
    "print(\"Sample tensor with shape (2, 3):\\n\", sample_tensor)"
   ]
  },
  {
   "cell_type": "code",
   "execution_count": 59,
   "id": "48ae0d23",
   "metadata": {},
   "outputs": [
    {
     "name": "stdout",
     "output_type": "stream",
     "text": [
      "Reshaped tensor to shape (3, 2):\n",
      " tensor([[0.6516, 0.7299],\n",
      "        [0.8049, 0.4785],\n",
      "        [0.2242, 0.0480]])\n"
     ]
    }
   ],
   "source": [
    "reshaped_tensor = sample_tensor.reshape(3, 2)\n",
    "print(\"Reshaped tensor to shape (3, 2):\\n\", reshaped_tensor)"
   ]
  },
  {
   "cell_type": "markdown",
   "id": "a3361eb6",
   "metadata": {},
   "source": [
    "##### **Stack:**\n",
    "When you take two or more tensors with the same size and put them on top of each other like a pile. So it means stack() puts multiple tensors together along a new axis.\n",
    "\n",
    "**Example:**\n",
    "You have 3 same-size pages. You make a small book by stacking them.\n",
    "\n",
    "a = torch.tensor([1, 2])\n",
    "\n",
    "b = torch.tensor([3, 4])\n",
    "\n",
    "So, when we stack them **torch.stack([a, b])**, it gives:\n",
    "\n",
    "[\n",
    "\n",
    " [1, 2],\n",
    "\n",
    " [3, 4]\n",
    " \n",
    "]\n",
    "\n"
   ]
  },
  {
   "cell_type": "code",
   "execution_count": 64,
   "id": "1ef5160a",
   "metadata": {},
   "outputs": [
    {
     "name": "stdout",
     "output_type": "stream",
     "text": [
      "Stacked tensor along dimension 0:\n",
      " tensor([[1, 2],\n",
      "        [3, 4]])\n"
     ]
    }
   ],
   "source": [
    "a = torch.tensor([1, 2])\n",
    "b = torch.tensor([3, 4])\n",
    "stacked_tensor = torch.stack((a, b))\n",
    "print(\"Stacked tensor along dimension 0:\\n\", stacked_tensor)"
   ]
  },
  {
   "cell_type": "code",
   "execution_count": 68,
   "id": "7cd6e722",
   "metadata": {},
   "outputs": [
    {
     "name": "stdout",
     "output_type": "stream",
     "text": [
      "Sample Tensor with values from 1 to 8:\n",
      " tensor([1., 2., 3., 4., 5., 6., 7., 8.])\n"
     ]
    }
   ],
   "source": [
    "a = torch.arange(1., 9.)\n",
    "print(\"Sample Tensor with values from 1 to 8:\\n\", a)"
   ]
  },
  {
   "cell_type": "code",
   "execution_count": 70,
   "id": "bb6d40f3",
   "metadata": {},
   "outputs": [
    {
     "name": "stdout",
     "output_type": "stream",
     "text": [
      "Stacked tensor:\n",
      " tensor([[1., 2., 3., 4., 5., 6., 7., 8.],\n",
      "        [1., 2., 3., 4., 5., 6., 7., 8.],\n",
      "        [1., 2., 3., 4., 5., 6., 7., 8.],\n",
      "        [1., 2., 3., 4., 5., 6., 7., 8.]])\n"
     ]
    }
   ],
   "source": [
    "a_stacked = torch.stack((a, a, a, a), dim=0) #Here 0 means add stack row wise. \n",
    "print(\"Stacked tensor:\\n\", a_stacked)"
   ]
  },
  {
   "cell_type": "code",
   "execution_count": 72,
   "id": "6fa8c1ce",
   "metadata": {},
   "outputs": [
    {
     "name": "stdout",
     "output_type": "stream",
     "text": [
      "Stacked tensor:\n",
      " tensor([[1., 1., 1., 1.],\n",
      "        [2., 2., 2., 2.],\n",
      "        [3., 3., 3., 3.],\n",
      "        [4., 4., 4., 4.],\n",
      "        [5., 5., 5., 5.],\n",
      "        [6., 6., 6., 6.],\n",
      "        [7., 7., 7., 7.],\n",
      "        [8., 8., 8., 8.]])\n"
     ]
    }
   ],
   "source": [
    "a_stacked = torch.stack((a, a, a, a), dim=1) #Here 1 means add stack column wise. \n",
    "print(\"Stacked tensor:\\n\", a_stacked)"
   ]
  },
  {
   "cell_type": "markdown",
   "id": "8776c2e4",
   "metadata": {},
   "source": [
    "##### **Squeeze** amd **Unsqeeze**:\n",
    "**Squeeze:**\n",
    "When we want to remove dimensions that are just size 1, because they don’t carry useful information. So, it means squeeze() removes any dimension with size 1, like unnecessary space.\n",
    "\n",
    "**Why we use it?**\n",
    "- To clean up extra dimensions.\n",
    "- Makes the data easier to handle for models.\n",
    "\n",
    "**Unsqueeze:**\n",
    "It adds a new dimension of size 1 to your tensor. Just the opposite of squeeze. So it means unsqueeze() adds a new dimension (of size 1) to a tensor.\n",
    "\n",
    "**Why we use it?**\n",
    "- CNN models need input in 4D: [batch, channel, height, width]\n",
    "- You can use unsqueeze() to match that format\n",
    "\n"
   ]
  },
  {
   "cell_type": "code",
   "execution_count": 76,
   "id": "1745d48a",
   "metadata": {},
   "outputs": [
    {
     "name": "stdout",
     "output_type": "stream",
     "text": [
      "Sample tensor with values from 1 to 8:\n",
      " tensor([1., 2., 3., 4., 5., 6., 7., 8.]) torch.Size([8])\n"
     ]
    }
   ],
   "source": [
    "sample_tensor = torch.arange(1., 9.)\n",
    "print(\"Sample tensor with values from 1 to 8:\\n\", sample_tensor, sample_tensor.shape)"
   ]
  },
  {
   "cell_type": "code",
   "execution_count": 77,
   "id": "469401ea",
   "metadata": {},
   "outputs": [
    {
     "name": "stdout",
     "output_type": "stream",
     "text": [
      "Unsqueezed sample tensor:\n",
      " tensor([[1., 2., 3., 4., 5., 6., 7., 8.]]) torch.Size([1, 8])\n"
     ]
    }
   ],
   "source": [
    "unsqeezed_sample_tensor = sample_tensor.unsqueeze(0)  # Adds a new dimension at the front\n",
    "print(\"Unsqueezed sample tensor:\\n\", unsqeezed_sample_tensor, unsqeezed_sample_tensor.shape)"
   ]
  },
  {
   "cell_type": "code",
   "execution_count": 79,
   "id": "e4a41889",
   "metadata": {},
   "outputs": [
    {
     "name": "stdout",
     "output_type": "stream",
     "text": [
      "Squeezed sample tensor:\n",
      " tensor([1., 2., 3., 4., 5., 6., 7., 8.]) torch.Size([8])\n"
     ]
    }
   ],
   "source": [
    "squeezed_sample_tensor = unsqeezed_sample_tensor.squeeze(0)  # Removes the dimension at index 0\n",
    "print(\"Squeezed sample tensor:\\n\", squeezed_sample_tensor, squeezed_sample_tensor.shape)"
   ]
  },
  {
   "cell_type": "markdown",
   "id": "f9aa95f5",
   "metadata": {},
   "source": [
    "##### **Pemute:**\n",
    "It rearranges the order of dimensions in your tensor. So it means permute() lets you rearrange the order of tensor dimensions.\n",
    "\n",
    "**Example:**\n",
    "In Excel:\n",
    "- Rows = students\n",
    "- Columns = subjects\n",
    "\n",
    "Now, you want to flip it:\n",
    "- Rows = subjects\n",
    "- Columns = students\n",
    "\n",
    "That’s what permute() does.\n",
    "\n",
    "**Why we use it?**\n",
    "- For CNNs or image models\n",
    "- To change shape like [height, width, channels] -> [channels, height, width]\n",
    "- For NLP tasks to switch batch and sequence positions"
   ]
  },
  {
   "cell_type": "code",
   "execution_count": 81,
   "id": "b71f71fb",
   "metadata": {},
   "outputs": [
    {
     "name": "stdout",
     "output_type": "stream",
     "text": [
      "Sample tensor with shape (2, 3, 4):\n",
      " tensor([[[0.3037, 0.4773, 0.9518, 0.1046],\n",
      "         [0.9177, 0.4000, 0.1486, 0.8763],\n",
      "         [0.1339, 0.5291, 0.2863, 0.8404]],\n",
      "\n",
      "        [[0.6154, 0.7008, 0.8907, 0.9916],\n",
      "         [0.5517, 0.3638, 0.0082, 0.4867],\n",
      "         [0.6749, 0.1777, 0.8984, 0.0586]]]) torch.Size([2, 3, 4])\n"
     ]
    }
   ],
   "source": [
    "sample_tensor = torch.rand(2, 3, 4)\n",
    "print(\"Sample tensor with shape (2, 3, 4):\\n\", sample_tensor, sample_tensor.shape)"
   ]
  },
  {
   "cell_type": "code",
   "execution_count": 82,
   "id": "ab28faf8",
   "metadata": {},
   "outputs": [
    {
     "name": "stdout",
     "output_type": "stream",
     "text": [
      "Permuted sample tensor with shape (4, 2, 3):\n",
      " tensor([[[0.3037, 0.9177, 0.1339],\n",
      "         [0.6154, 0.5517, 0.6749]],\n",
      "\n",
      "        [[0.4773, 0.4000, 0.5291],\n",
      "         [0.7008, 0.3638, 0.1777]],\n",
      "\n",
      "        [[0.9518, 0.1486, 0.2863],\n",
      "         [0.8907, 0.0082, 0.8984]],\n",
      "\n",
      "        [[0.1046, 0.8763, 0.8404],\n",
      "         [0.9916, 0.4867, 0.0586]]]) torch.Size([4, 2, 3])\n"
     ]
    }
   ],
   "source": [
    "permute_sample_tensor = sample_tensor.permute(2, 0, 1)  # Rearranging dimensions)\n",
    "print(\"Permuted sample tensor with shape (4, 2, 3):\\n\", permute_sample_tensor, permute_sample_tensor.shape)"
   ]
  },
  {
   "cell_type": "markdown",
   "id": "9b482477",
   "metadata": {},
   "source": [
    "##### *Working:**\n",
    "How this works:\n",
    "1. We create a tensor with shape (2, 3, 4).\n",
    "2. We permute the dimensions to (4, 2, 3), which means:\n",
    "    - The first dimension (2) becomes the second dimension (0).\n",
    "    - The second dimension (3) becomes the first dimension (1).\n",
    "    - The third dimension (4) becomes the third dimension (2).\n",
    "3. The resulting tensor has the shape (4, 2, 3), where the dimensions have been rearranged."
   ]
  }
 ],
 "metadata": {
  "kernelspec": {
   "display_name": "base",
   "language": "python",
   "name": "python3"
  },
  "language_info": {
   "codemirror_mode": {
    "name": "ipython",
    "version": 3
   },
   "file_extension": ".py",
   "mimetype": "text/x-python",
   "name": "python",
   "nbconvert_exporter": "python",
   "pygments_lexer": "ipython3",
   "version": "3.12.4"
  }
 },
 "nbformat": 4,
 "nbformat_minor": 5
}
